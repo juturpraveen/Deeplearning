{
  "nbformat": 4,
  "nbformat_minor": 0,
  "metadata": {
    "colab": {
      "name": "Copy of download_resources.ipynb",
      "version": "0.3.2",
      "provenance": [],
      "include_colab_link": true
    },
    "kernelspec": {
      "display_name": "Python 3",
      "language": "python",
      "name": "python3"
    }
  },
  "cells": [
    {
      "cell_type": "markdown",
      "metadata": {
        "id": "view-in-github",
        "colab_type": "text"
      },
      "source": [
        "[View in Colaboratory](https://colab.research.google.com/github/juturpraveen/IntroductionToDeeplearning-Week01/blob/master/Copy_of_download_resources.ipynb)"
      ]
    },
    {
      "metadata": {
        "id": "bvyr_hzbmbFa",
        "colab_type": "code",
        "colab": {}
      },
      "cell_type": "code",
      "source": [
        ""
      ],
      "execution_count": 0,
      "outputs": []
    },
    {
      "metadata": {
        "id": "AALrV3pfXwZo",
        "colab_type": "code",
        "colab": {
          "base_uri": "https://localhost:8080/",
          "height": 153
        },
        "outputId": "493f8b70-4686-47a7-db3e-44ab6e36749c"
      },
      "cell_type": "code",
      "source": [
        "! wget https://raw.githubusercontent.com/hse-aml/intro-to-dl/master/setup_google_colab.py -O setup_google_colab.py\n",
        "import setup_google_colab\n",
        "setup_google_colab.setup_week2_v2()  # change to the week you're working on\n",
        "# note on week 2: select setup_week2_v2() if you've started the course after August 13, 2018,\n",
        "# otherwise call setup_week2()."
      ],
      "execution_count": 1,
      "outputs": [
        {
          "output_type": "stream",
          "text": [
            "\n",
            "Redirecting output to ‘wget-log’.\n",
            "**************************************************\n",
            "inception_v3_weights_tf_dim_ordering_tf_kernels_notop.h5\n",
            "**************************************************\n",
            "cifar-10-batches-py.tar.gz\n",
            "**************************************************\n",
            "mnist.npz\n"
          ],
          "name": "stdout"
        }
      ]
    },
    {
      "metadata": {
        "id": "O30H3CkEXuso",
        "colab_type": "code",
        "colab": {}
      },
      "cell_type": "code",
      "source": [
        "import download_utils"
      ],
      "execution_count": 0,
      "outputs": []
    },
    {
      "metadata": {
        "id": "Q0-ht027mbFc",
        "colab_type": "text"
      },
      "cell_type": "markdown",
      "source": [
        "## Keras resources"
      ]
    },
    {
      "metadata": {
        "id": "xRV72fsUmbFc",
        "colab_type": "code",
        "colab": {
          "base_uri": "https://localhost:8080/",
          "height": 119
        },
        "outputId": "0d1e716a-09a6-4283-acde-3ce3612865fb"
      },
      "cell_type": "code",
      "source": [
        "download_utils.download_all_keras_resources(\"readonly/keras/models\", \"readonly/keras/datasets\")"
      ],
      "execution_count": 4,
      "outputs": [
        {
          "output_type": "stream",
          "text": [
            "**************************************************\n",
            "inception_v3_weights_tf_dim_ordering_tf_kernels_notop.h5\n",
            "**************************************************\n",
            "cifar-10-batches-py.tar.gz\n",
            "**************************************************\n",
            "mnist.npz\n"
          ],
          "name": "stdout"
        }
      ]
    },
    {
      "metadata": {
        "id": "V4Tj_gPqmbFf",
        "colab_type": "text"
      },
      "cell_type": "markdown",
      "source": [
        "## Week 3 resources"
      ]
    },
    {
      "metadata": {
        "id": "eB8qhr6qmbFf",
        "colab_type": "code",
        "colab": {
          "base_uri": "https://localhost:8080/",
          "height": 85
        },
        "outputId": "7daae4a6-72b3-4612-cb49-ba3ea9bc986e"
      },
      "cell_type": "code",
      "source": [
        "download_utils.download_week_3_resources(\"readonly/week3\")"
      ],
      "execution_count": 5,
      "outputs": [
        {
          "output_type": "stream",
          "text": [
            "**************************************************\n",
            "102flowers.tgz\n",
            "**************************************************\n",
            "imagelabels.mat\n"
          ],
          "name": "stdout"
        }
      ]
    },
    {
      "metadata": {
        "id": "71gjJ7qnmbFi",
        "colab_type": "text"
      },
      "cell_type": "markdown",
      "source": [
        "## Week 4 resources"
      ]
    },
    {
      "metadata": {
        "id": "X6EPUXsZmbFj",
        "colab_type": "code",
        "colab": {}
      },
      "cell_type": "code",
      "source": [
        "download_utils.download_week_4_resources(\"readonly/week4\")"
      ],
      "execution_count": 0,
      "outputs": []
    },
    {
      "metadata": {
        "id": "CVxsTDEembFl",
        "colab_type": "text"
      },
      "cell_type": "markdown",
      "source": [
        "## Week 6 resources"
      ]
    },
    {
      "metadata": {
        "id": "8iYoPYwNmbFl",
        "colab_type": "code",
        "colab": {}
      },
      "cell_type": "code",
      "source": [
        "download_utils.download_week_6_resources(\"readonly/week6\")"
      ],
      "execution_count": 0,
      "outputs": []
    }
  ]
}