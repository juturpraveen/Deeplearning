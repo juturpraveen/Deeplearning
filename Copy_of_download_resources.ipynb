{
  "nbformat": 4,
  "nbformat_minor": 0,
  "metadata": {
    "colab": {
      "name": "Copy of download_resources.ipynb",
      "version": "0.3.2",
      "provenance": [],
      "include_colab_link": true
    },
    "kernelspec": {
      "display_name": "Python 3",
      "language": "python",
      "name": "python3"
    }
  },
  "cells": [
    {
      "cell_type": "markdown",
      "metadata": {
        "id": "view-in-github",
        "colab_type": "text"
      },
      "source": [
        "[View in Colaboratory](https://colab.research.google.com/github/juturpraveen/IntroductionToDeeplearning-Week01/blob/master/Copy_of_download_resources.ipynb)"
      ]
    },
    {
      "metadata": {
        "id": "bvyr_hzbmbFa",
        "colab_type": "code",
        "colab": {}
      },
      "cell_type": "code",
      "source": [
        "import download_utils"
      ],
      "execution_count": 0,
      "outputs": []
    },
    {
      "metadata": {
        "id": "Q0-ht027mbFc",
        "colab_type": "text"
      },
      "cell_type": "markdown",
      "source": [
        "## Keras resources"
      ]
    },
    {
      "metadata": {
        "id": "xRV72fsUmbFc",
        "colab_type": "code",
        "colab": {}
      },
      "cell_type": "code",
      "source": [
        "download_utils.download_all_keras_resources(\"readonly/keras/models\", \"readonly/keras/datasets\")"
      ],
      "execution_count": 0,
      "outputs": []
    },
    {
      "metadata": {
        "id": "V4Tj_gPqmbFf",
        "colab_type": "text"
      },
      "cell_type": "markdown",
      "source": [
        "## Week 3 resources"
      ]
    },
    {
      "metadata": {
        "id": "eB8qhr6qmbFf",
        "colab_type": "code",
        "colab": {}
      },
      "cell_type": "code",
      "source": [
        "download_utils.download_week_3_resources(\"readonly/week3\")"
      ],
      "execution_count": 0,
      "outputs": []
    },
    {
      "metadata": {
        "id": "71gjJ7qnmbFi",
        "colab_type": "text"
      },
      "cell_type": "markdown",
      "source": [
        "## Week 4 resources"
      ]
    },
    {
      "metadata": {
        "id": "X6EPUXsZmbFj",
        "colab_type": "code",
        "colab": {}
      },
      "cell_type": "code",
      "source": [
        "download_utils.download_week_4_resources(\"readonly/week4\")"
      ],
      "execution_count": 0,
      "outputs": []
    },
    {
      "metadata": {
        "id": "CVxsTDEembFl",
        "colab_type": "text"
      },
      "cell_type": "markdown",
      "source": [
        "## Week 6 resources"
      ]
    },
    {
      "metadata": {
        "id": "8iYoPYwNmbFl",
        "colab_type": "code",
        "colab": {}
      },
      "cell_type": "code",
      "source": [
        "download_utils.download_week_6_resources(\"readonly/week6\")"
      ],
      "execution_count": 0,
      "outputs": []
    }
  ]
}